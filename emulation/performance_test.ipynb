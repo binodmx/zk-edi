{
 "cells": [
  {
   "cell_type": "markdown",
   "metadata": {},
   "source": [
    "### 1. Data hashing time (changes with replica size)"
   ]
  },
  {
   "cell_type": "code",
   "execution_count": 1,
   "metadata": {},
   "outputs": [],
   "source": [
    "import hashlib # Install blspy using `pip install blspy`\n",
    "import json\n",
    "import time\n",
    "\n",
    "data_blocks = []\n",
    "for i in range(16):\n",
    "    data_blocks.append(bytes([i]*1024*1024*64))\n",
    "\n",
    "data_hashing_times = {}\n",
    "replica_sizes = [64, 128, 256, 512, 1024]\n",
    "for replica_size in replica_sizes:\n",
    "    data = b''.join(data_blocks[:replica_size//64])\n",
    "    data_hashing_times[replica_size] = []\n",
    "    for i in range(100):\n",
    "        t = time.time()\n",
    "        data_hash = hashlib.sha256(data).digest()\n",
    "        data_hashing_times[replica_size].append(time.time() - t)\n",
    "\n",
    "with open('1_data_hashing_times.json', 'w') as f:\n",
    "    json.dump(data_hashing_times, f)"
   ]
  },
  {
   "cell_type": "markdown",
   "metadata": {},
   "source": [
    "### 2. BLS signature generation time"
   ]
  },
  {
   "cell_type": "code",
   "execution_count": 24,
   "metadata": {},
   "outputs": [],
   "source": [
    "import hashlib\n",
    "import json\n",
    "import random\n",
    "import time\n",
    "from blspy import AugSchemeMPL, PopSchemeMPL\n",
    "\n",
    "seed = bytes([random.randint(0, 255) for _ in range(32)])\n",
    "sk = AugSchemeMPL.key_gen(seed)\n",
    "pk = sk.get_g1()\n",
    "data = bytes([0]*1024)\n",
    "data_hash = hashlib.sha256(data).digest()\n",
    "\n",
    "signature_generation_times = []\n",
    "for i in range(100):\n",
    "    t = time.time()\n",
    "    signature = PopSchemeMPL.sign(sk, data_hash)\n",
    "    signature_generation_times.append(time.time() - t)\n",
    "\n",
    "with open('2_signature_generation_times.json', 'w') as f:\n",
    "    json.dump(signature_generation_times, f)"
   ]
  },
  {
   "cell_type": "markdown",
   "metadata": {},
   "source": [
    "### 3. BLS signature aggregation time (changes with number of signatures)"
   ]
  },
  {
   "cell_type": "code",
   "execution_count": 23,
   "metadata": {},
   "outputs": [],
   "source": [
    "import hashlib\n",
    "import json\n",
    "import random\n",
    "import time\n",
    "from blspy import AugSchemeMPL, PopSchemeMPL\n",
    "\n",
    "n = 100\n",
    "signatures = []\n",
    "data = bytes([0]*1024)\n",
    "data_hash = hashlib.sha256(data).digest()\n",
    "for i in range(n):\n",
    "    seed = bytes([random.randint(0, 255) for _ in range(32)])\n",
    "    sk = AugSchemeMPL.key_gen(seed)\n",
    "    signatures.append(PopSchemeMPL.sign(sk, data_hash))\n",
    "\n",
    "signature_aggregation_times = {}\n",
    "for i in range(n):\n",
    "    signature_aggregation_times[i+1] = []\n",
    "    for j in range(100):\n",
    "        t = time.time()\n",
    "        agg_signature = PopSchemeMPL.aggregate(signatures[:i+1])\n",
    "        signature_aggregation_times[i+1].append(time.time() - t)\n",
    "\n",
    "with open('3_signature_aggregation_times.json', 'w') as f:\n",
    "    json.dump(signature_aggregation_times, f)"
   ]
  },
  {
   "cell_type": "markdown",
   "metadata": {},
   "source": [
    "### 4. BLS signature verification time (changes with number of signatures)"
   ]
  },
  {
   "cell_type": "code",
   "execution_count": 4,
   "metadata": {},
   "outputs": [],
   "source": [
    "import hashlib\n",
    "import json\n",
    "import random\n",
    "import time\n",
    "from blspy import AugSchemeMPL, PopSchemeMPL\n",
    "\n",
    "n = 100\n",
    "pks = []\n",
    "signatures = []\n",
    "data = bytes([0]*1024)\n",
    "data_hash = hashlib.sha256(data).digest()\n",
    "for i in range(n):\n",
    "    seed = bytes([random.randint(0, 255) for _ in range(32)])\n",
    "    sk = AugSchemeMPL.key_gen(seed)\n",
    "    pks.append(sk.get_g1())\n",
    "    signatures.append(PopSchemeMPL.sign(sk, data_hash))\n",
    "\n",
    "signature_verification_times = {}\n",
    "for i in range(n):\n",
    "    signature_verification_times[i+1] = []\n",
    "    agg_signature = AugSchemeMPL.aggregate(signatures[:i+1])\n",
    "    for j in range(100):\n",
    "        t = time.time()\n",
    "        ok = PopSchemeMPL.fast_aggregate_verify(pks[:i+1], data_hash, \n",
    "                                                agg_signature)\n",
    "        signature_verification_times[i+1].append(time.time() - t)\n",
    "\n",
    "with open('4_signature_verification_times.json', 'w') as f:\n",
    "    json.dump(signature_verification_times, f)"
   ]
  }
 ],
 "metadata": {
  "kernelspec": {
   "display_name": "Python 3",
   "language": "python",
   "name": "python3"
  },
  "language_info": {
   "codemirror_mode": {
    "name": "ipython",
    "version": 3
   },
   "file_extension": ".py",
   "mimetype": "text/x-python",
   "name": "python",
   "nbconvert_exporter": "python",
   "pygments_lexer": "ipython3",
   "version": "3.11.9"
  }
 },
 "nbformat": 4,
 "nbformat_minor": 2
}
