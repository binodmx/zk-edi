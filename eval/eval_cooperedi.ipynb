{
 "cells": [
  {
   "cell_type": "code",
   "execution_count": null,
   "metadata": {},
   "outputs": [],
   "source": [
    "n = 100     # number of servers\n",
    "\n",
    "phase1; find manager\n",
    "phase2: corruption localization\n",
    "\n",
    "# total time = data_hash_delay + req_latency + proc_delay + res_latency <= t (time limit to achieve quorum) \n",
    "# + data blocks hash delay + req_latency + res_delay\n"
   ]
  }
 ],
 "metadata": {
  "language_info": {
   "name": "python"
  }
 },
 "nbformat": 4,
 "nbformat_minor": 2
}
