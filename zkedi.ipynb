{
 "cells": [
  {
   "cell_type": "code",
   "execution_count": 3,
   "metadata": {},
   "outputs": [
    {
     "name": "stdout",
     "output_type": "stream",
     "text": [
      "08:28:23 Simulator: Simulation started.\n",
      "08:28:23 Simulator: Parameter settings: \n",
      "                        edge_scale=10, \n",
      "                        replica_scale=1,\n",
      "                        replica_size=1024bytes, \n",
      "                        corruption_rate=0.1\n",
      "08:28:23 Simulator: Running cluster formation...\n",
      "08:28:23 Simulator: Creating the rtt_matrix...\n",
      "08:28:23 Simulator: RTT matrix created successfully!\n",
      "08:28:23 Simulator: Creating the similarity_matrix...\n",
      "08:28:23 Simulator: Parameter settings: \n",
      "                        failure_rate=0.02\n",
      "08:28:23 Simulator: Similarity matrix created successfully!\n",
      "08:28:23 Simulator: Clustering the servers...\n",
      "08:28:23 Simulator: Servers clustered successfully!\n",
      "08:28:23 Simulator: Clusters formed successfully!\n",
      "08:28:23 Simulator: Initializing edge servers...\n"
     ]
    },
    {
     "ename": "TypeError",
     "evalue": "EdgeServer.__init__() got an unexpected keyword argument 'data_replicas'",
     "output_type": "error",
     "traceback": [
      "\u001b[1;31m---------------------------------------------------------------------------\u001b[0m",
      "\u001b[1;31mTypeError\u001b[0m                                 Traceback (most recent call last)",
      "Cell \u001b[1;32mIn[3], line 9\u001b[0m\n\u001b[0;32m      3\u001b[0m \u001b[38;5;28;01mimport\u001b[39;00m \u001b[38;5;21;01mjson\u001b[39;00m\n\u001b[0;32m      5\u001b[0m simulator \u001b[38;5;241m=\u001b[39m Simulator(edge_scale\u001b[38;5;241m=\u001b[39m\u001b[38;5;241m10\u001b[39m, \n\u001b[0;32m      6\u001b[0m                       replica_scale\u001b[38;5;241m=\u001b[39m\u001b[38;5;241m1\u001b[39m,\n\u001b[0;32m      7\u001b[0m                       replica_size\u001b[38;5;241m=\u001b[39m\u001b[38;5;241m1024\u001b[39m, \n\u001b[0;32m      8\u001b[0m                       corruption_rate\u001b[38;5;241m=\u001b[39m\u001b[38;5;241m0.1\u001b[39m)\n\u001b[1;32m----> 9\u001b[0m metrics \u001b[38;5;241m=\u001b[39m \u001b[43msimulator\u001b[49m\u001b[38;5;241;43m.\u001b[39;49m\u001b[43mrun\u001b[49m\u001b[43m(\u001b[49m\u001b[43m)\u001b[49m\n\u001b[0;32m     10\u001b[0m \u001b[38;5;28mprint\u001b[39m(json\u001b[38;5;241m.\u001b[39mdumps(metrics, indent\u001b[38;5;241m=\u001b[39m\u001b[38;5;241m4\u001b[39m))\n",
      "File \u001b[1;32mc:\\Users\\S4025371\\OneDrive - RMIT University\\Repositories\\zk-edi\\Simulator.py:50\u001b[0m, in \u001b[0;36mSimulator.run\u001b[1;34m(self)\u001b[0m\n\u001b[0;32m     48\u001b[0m \u001b[38;5;28mself\u001b[39m\u001b[38;5;241m.\u001b[39medge_servers \u001b[38;5;241m=\u001b[39m []\n\u001b[0;32m     49\u001b[0m \u001b[38;5;28;01mfor\u001b[39;00m i \u001b[38;5;129;01min\u001b[39;00m \u001b[38;5;28mrange\u001b[39m(\u001b[38;5;28mself\u001b[39m\u001b[38;5;241m.\u001b[39mn):\n\u001b[1;32m---> 50\u001b[0m     \u001b[38;5;28mself\u001b[39m\u001b[38;5;241m.\u001b[39medge_servers\u001b[38;5;241m.\u001b[39mappend(\u001b[43mEdgeServer\u001b[49m\u001b[43m(\u001b[49m\n\u001b[0;32m     51\u001b[0m \u001b[43m        \u001b[49m\u001b[38;5;28;43mid\u001b[39;49m\u001b[38;5;241;43m=\u001b[39;49m\u001b[43mi\u001b[49m\u001b[43m,\u001b[49m\n\u001b[0;32m     52\u001b[0m \u001b[43m        \u001b[49m\u001b[43mn\u001b[49m\u001b[38;5;241;43m=\u001b[39;49m\u001b[38;5;28;43mself\u001b[39;49m\u001b[38;5;241;43m.\u001b[39;49m\u001b[43mn\u001b[49m\u001b[43m,\u001b[49m\n\u001b[0;32m     53\u001b[0m \u001b[43m        \u001b[49m\u001b[43mis_corrupted\u001b[49m\u001b[38;5;241;43m=\u001b[39;49m\u001b[38;5;28;43mbool\u001b[39;49m\u001b[43m(\u001b[49m\u001b[38;5;28;43mself\u001b[39;49m\u001b[38;5;241;43m.\u001b[39;49m\u001b[43mcorrupted_servers\u001b[49m\u001b[43m[\u001b[49m\u001b[43mi\u001b[49m\u001b[43m]\u001b[49m\u001b[43m)\u001b[49m\u001b[43m,\u001b[49m\n\u001b[0;32m     54\u001b[0m \u001b[43m        \u001b[49m\u001b[43mdata_replicas\u001b[49m\u001b[38;5;241;43m=\u001b[39;49m\u001b[38;5;28;43mself\u001b[39;49m\u001b[38;5;241;43m.\u001b[39;49m\u001b[43mdata_replicas\u001b[49m\u001b[43m,\u001b[49m\n\u001b[0;32m     55\u001b[0m \u001b[43m        \u001b[49m\u001b[43mapp_vendor\u001b[49m\u001b[38;5;241;43m=\u001b[39;49m\u001b[38;5;28;43mself\u001b[39;49m\u001b[38;5;241;43m.\u001b[39;49m\u001b[43mapp_vendor\u001b[49m\u001b[43m,\u001b[49m\n\u001b[0;32m     56\u001b[0m \u001b[43m        \u001b[49m\u001b[43mclusters\u001b[49m\u001b[38;5;241;43m=\u001b[39;49m\u001b[38;5;28;43mself\u001b[39;49m\u001b[38;5;241;43m.\u001b[39;49m\u001b[43mclusters\u001b[49m\u001b[43m,\u001b[49m\n\u001b[0;32m     57\u001b[0m \u001b[43m        \u001b[49m\u001b[43mcluster_heads\u001b[49m\u001b[38;5;241;43m=\u001b[39;49m\u001b[38;5;28;43mself\u001b[39;49m\u001b[38;5;241;43m.\u001b[39;49m\u001b[43mcluster_heads\u001b[49m\u001b[43m,\u001b[49m\n\u001b[0;32m     58\u001b[0m \u001b[43m        \u001b[49m\u001b[43mlatency_matrix\u001b[49m\u001b[38;5;241;43m=\u001b[39;49m\u001b[38;5;28;43mself\u001b[39;49m\u001b[38;5;241;43m.\u001b[39;49m\u001b[43mrtt_matrix\u001b[49m\u001b[38;5;241;43m/\u001b[39;49m\u001b[38;5;241;43m2\u001b[39;49m\u001b[43m,\u001b[49m\n\u001b[0;32m     59\u001b[0m \u001b[43m        \u001b[49m\u001b[43mdt1\u001b[49m\u001b[38;5;241;43m=\u001b[39;49m\u001b[38;5;241;43m1\u001b[39;49m\u001b[43m,\u001b[49m\n\u001b[0;32m     60\u001b[0m \u001b[43m        \u001b[49m\u001b[43mdt2\u001b[49m\u001b[38;5;241;43m=\u001b[39;49m\u001b[38;5;241;43m2\u001b[39;49m\u001b[43m)\u001b[49m)\n\u001b[0;32m     61\u001b[0m \u001b[38;5;28;01mfor\u001b[39;00m i \u001b[38;5;129;01min\u001b[39;00m \u001b[38;5;28mrange\u001b[39m(\u001b[38;5;28mself\u001b[39m\u001b[38;5;241m.\u001b[39mn):\n\u001b[0;32m     62\u001b[0m     \u001b[38;5;28mself\u001b[39m\u001b[38;5;241m.\u001b[39medge_servers[i]\u001b[38;5;241m.\u001b[39mset_edge_servers(\u001b[38;5;28mself\u001b[39m\u001b[38;5;241m.\u001b[39medge_servers)\n",
      "\u001b[1;31mTypeError\u001b[0m: EdgeServer.__init__() got an unexpected keyword argument 'data_replicas'"
     ]
    }
   ],
   "source": [
    "# Test Run\n",
    "from Simulator import Simulator\n",
    "import json\n",
    "\n",
    "simulator = Simulator(edge_scale=10, \n",
    "                      replica_scale=1,\n",
    "                      replica_size=1024, \n",
    "                      corruption_rate=0.1)\n",
    "metrics = simulator.run()\n",
    "print(json.dumps(metrics, indent=4))"
   ]
  },
  {
   "cell_type": "code",
   "execution_count": 1,
   "metadata": {},
   "outputs": [
    {
     "ename": "NameError",
     "evalue": "name 'Simulator' is not defined",
     "output_type": "error",
     "traceback": [
      "\u001b[1;31m---------------------------------------------------------------------------\u001b[0m",
      "\u001b[1;31mNameError\u001b[0m                                 Traceback (most recent call last)",
      "Cell \u001b[1;32mIn[1], line 11\u001b[0m\n\u001b[0;32m      9\u001b[0m g_times[n] \u001b[38;5;241m=\u001b[39m []\n\u001b[0;32m     10\u001b[0m \u001b[38;5;28;01mfor\u001b[39;00m i \u001b[38;5;129;01min\u001b[39;00m \u001b[38;5;28mrange\u001b[39m(n_rounds):\n\u001b[1;32m---> 11\u001b[0m     simulator \u001b[38;5;241m=\u001b[39m \u001b[43mSimulator\u001b[49m(edge_scale\u001b[38;5;241m=\u001b[39mn,\n\u001b[0;32m     12\u001b[0m                           replica_scale\u001b[38;5;241m=\u001b[39m\u001b[38;5;241m1\u001b[39m,\n\u001b[0;32m     13\u001b[0m                           data_replica_size\u001b[38;5;241m=\u001b[39m\u001b[38;5;241m1024\u001b[39m, \n\u001b[0;32m     14\u001b[0m                           corruption_rate\u001b[38;5;241m=\u001b[39m\u001b[38;5;241m0.1\u001b[39m)\n\u001b[0;32m     15\u001b[0m     metrics \u001b[38;5;241m=\u001b[39m simulator\u001b[38;5;241m.\u001b[39mrun()\n\u001b[0;32m     16\u001b[0m     l_times[n]\u001b[38;5;241m.\u001b[39mappend(metrics[\u001b[38;5;124m'\u001b[39m\u001b[38;5;124mduration\u001b[39m\u001b[38;5;124m'\u001b[39m][\u001b[38;5;124m'\u001b[39m\u001b[38;5;124mlocal\u001b[39m\u001b[38;5;124m'\u001b[39m])\n",
      "\u001b[1;31mNameError\u001b[0m: name 'Simulator' is not defined"
     ]
    }
   ],
   "source": [
    "# Sampling Scale vs Time (average over 10 rounds for each scale)\n",
    "n_rounds = 10\n",
    "ns = [10, 20, 30, 40, 50]\n",
    "l_times = {}\n",
    "g_times = {}\n",
    "\n",
    "for n in ns:\n",
    "    l_times[n] = []\n",
    "    g_times[n] = []\n",
    "    for i in range(n_rounds):\n",
    "        simulator = Simulator(edge_scale=n,\n",
    "                              replica_scale=1,\n",
    "                              data_replica_size=1024, \n",
    "                              corruption_rate=0.1)\n",
    "        metrics = simulator.run()\n",
    "        l_times[n].append(metrics['duration']['local'])\n",
    "        g_times[n].append(metrics['duration']['global'])\n",
    "\n",
    "with open('sampling_scale_vs_time.json', 'w') as f:\n",
    "    json.dump({'local': l_times, 'global': g_times}, f)"
   ]
  },
  {
   "cell_type": "code",
   "execution_count": null,
   "metadata": {},
   "outputs": [],
   "source": [
    "# Replica Scale vs Time (sum over each replica scale)\n",
    "rss = [10, 20, 30, 40, 50]\n",
    "l_times = {}\n",
    "g_times = {}\n",
    "\n",
    "for rs in rss:\n",
    "    l_times[rs] = []\n",
    "    g_times[rs] = []\n",
    "    for i in range(rs):\n",
    "        simulator = Simulator(n=10, \n",
    "                              data_replica_size=1024, \n",
    "                              corruption_rate=0.1)\n",
    "        metrics = simulator.run()\n",
    "        l_times[rs].append(metrics['l_time'])\n",
    "        g_times[rs].append(metrics['g_time'])\n",
    "\n",
    "with open('replica_scale_vs_time.json', 'w') as f:\n",
    "    json.dump({'local': l_times, 'global': g_times}, f)"
   ]
  },
  {
   "cell_type": "code",
   "execution_count": null,
   "metadata": {},
   "outputs": [],
   "source": [
    "# Replica Size vs Time (average over 10 rounds for each replica size)\n",
    "n_rounds = 10\n",
    "rss = [10, 20, 30, 40, 50]\n",
    "l_times = {}\n",
    "g_times = {}\n",
    "\n",
    "for rs in rss:\n",
    "    l_times[rs] = []\n",
    "    g_times[rs] = []\n",
    "    for i in range(n_rounds):\n",
    "        simulator = Simulator(n=10, \n",
    "                              data_replica_size=rs, \n",
    "                              corruption_rate=0.1)\n",
    "        metrics = simulator.run()\n",
    "        l_times[rs].append(metrics['l_time'])\n",
    "        g_times[rs].append(metrics['g_time'])\n",
    "\n",
    "with open('replica_size_vs_time.json', 'w') as f:\n",
    "    json.dump({'local': l_times, 'global': g_times}, f)"
   ]
  },
  {
   "cell_type": "code",
   "execution_count": null,
   "metadata": {},
   "outputs": [],
   "source": [
    "# Corruption Rate vs Time (average over 10 rounds for each replica size)\n",
    "n_rounds = 10\n",
    "crs = [0, 0.05, 0.1, 0.2, 0.3]\n",
    "l_times = {}\n",
    "g_times = {}\n",
    "\n",
    "for cr in crs:\n",
    "    l_times[cr] = []\n",
    "    g_times[cr] = []\n",
    "    for i in range(n_rounds):\n",
    "        simulator = Simulator(n=10, \n",
    "                              data_replica_size=1024,\n",
    "                              corruption_rate=cr)\n",
    "        metrics = simulator.run()\n",
    "        l_times[cr].append(metrics['l_time'])\n",
    "        g_times[cr].append(metrics['g_time'])\n",
    "\n",
    "with open('corruption_rate_vs_time.json', 'w') as f:\n",
    "    json.dump({'local': l_times, 'global': g_times}, f)"
   ]
  },
  {
   "cell_type": "code",
   "execution_count": null,
   "metadata": {},
   "outputs": [],
   "source": [
    "# local/global time consumption pie chart\n",
    "# keep all parameters as fixed\n",
    "l_times = []\n",
    "g_times = []\n",
    "for i in range(10):\n",
    "    simulator = Simulator(n=10, \n",
    "                          data_replica_size=1024, \n",
    "                          corruption_rate=0.1)\n",
    "    metrics = simulator.run()\n",
    "    l_times.append(metrics['l_time'])\n",
    "    g_times.append(metrics['g_time'])\n",
    "\n",
    "with open('time_consumption.json', 'w') as f:\n",
    "    json.dump({'local': l_times, 'global': g_times}, f)\n"
   ]
  },
  {
   "cell_type": "code",
   "execution_count": null,
   "metadata": {},
   "outputs": [],
   "source": [
    "# corruption detection rate (we might not need this because our one can guarantee 100%)\n",
    "    # with direct interact with app vendor\n",
    "    # without clustering\n",
    "    # with random clustering\n",
    "    # with clustering\n",
    "    # with clustering several rounds with reputation\n",
    "\n",
    "# simulation vs real\n",
    "# clustering vs no clustering\n"
   ]
  },
  {
   "cell_type": "code",
   "execution_count": null,
   "metadata": {},
   "outputs": [],
   "source": [
    "# communication overhead by calculating data packet size manually\n"
   ]
  }
 ],
 "metadata": {
  "kernelspec": {
   "display_name": "Python 3",
   "language": "python",
   "name": "python3"
  },
  "language_info": {
   "codemirror_mode": {
    "name": "ipython",
    "version": 3
   },
   "file_extension": ".py",
   "mimetype": "text/x-python",
   "name": "python",
   "nbconvert_exporter": "python",
   "pygments_lexer": "ipython3",
   "version": "3.11.9"
  }
 },
 "nbformat": 4,
 "nbformat_minor": 2
}
