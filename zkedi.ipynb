{
 "cells": [
  {
   "cell_type": "code",
   "execution_count": 1,
   "metadata": {},
   "outputs": [],
   "source": [
    "from Simulator import Simulator\n",
    "import json"
   ]
  },
  {
   "cell_type": "code",
   "execution_count": 4,
   "metadata": {},
   "outputs": [
    {
     "name": "stdout",
     "output_type": "stream",
     "text": [
      "{\n",
      "    \"parameter_settings\": {\n",
      "        \"edge_scale\": 10,\n",
      "        \"replica_scale\": 1,\n",
      "        \"replica_size\": 1024,\n",
      "        \"corruption_rate\": 0.1\n",
      "    },\n",
      "    \"duration\": {\n",
      "        \"local\": [\n",
      "            4.103453874588013,\n",
      "            -1,\n",
      "            0.5181686878204346,\n",
      "            -1,\n",
      "            -1,\n",
      "            3.7597880363464355,\n",
      "            3.4769771099090576,\n",
      "            2.2527899742126465,\n",
      "            1.0921893119812012,\n",
      "            0.8276605606079102\n",
      "        ],\n",
      "        \"global\": [\n",
      "            15.19187307357788,\n",
      "            12.295636653900146,\n",
      "            12.266226530075073,\n",
      "            12.281101703643799,\n",
      "            12.27926230430603,\n",
      "            14.820553541183472,\n",
      "            13.452069759368896,\n",
      "            12.354410648345947,\n",
      "            12.013854265213013,\n",
      "            10.820196390151978\n",
      "        ],\n",
      "        \"dt1\": 6,\n",
      "        \"dt2\": 6,\n",
      "        \"timed_out\": \"[0, 0, 0, 0, 0, 0, 0, 0, 0, 0]\",\n",
      "        \"cluster_formation\": 0.19000577926635742,\n",
      "        \"server_initialization\": 0.01641678810119629,\n",
      "        \"total_runtime\": 20.406095504760742\n",
      "    },\n",
      "    \"cluster_info\": {\n",
      "        \"clusters\": \"{0: [0, 5, 8], 1: [1, 3, 4], 2: [2], 3: [6, 7, 9]}\",\n",
      "        \"cluster_heads\": \"{0: 8, 1: 3, 2: 2, 3: 7}\",\n",
      "        \"n_clusters\": 4,\n",
      "        \"corrupted_servers\": \"[0. 0. 0. 1. 0. 0. 0. 0. 0. 0.]\"\n",
      "    }\n",
      "}\n"
     ]
    }
   ],
   "source": [
    "# Test Run\n",
    "simulator = Simulator(edge_scale=10, \n",
    "                      replica_scale=1,\n",
    "                      replica_size=1024, \n",
    "                      corruption_rate=0.1)\n",
    "metrics = simulator.run()\n",
    "print(json.dumps(metrics, indent=4))"
   ]
  },
  {
   "cell_type": "code",
   "execution_count": null,
   "metadata": {},
   "outputs": [],
   "source": [
    "# Sampling Scale vs Time (average over 10 rounds for each scale)\n",
    "n_rounds = 10\n",
    "ns = [10, 20, 50, 100, 200]\n",
    "l_times = {}\n",
    "g_times = {}\n",
    "\n",
    "for n in ns:\n",
    "    l_times[n] = []\n",
    "    g_times[n] = []\n",
    "    for i in range(n_rounds):\n",
    "        simulator = Simulator(edge_scale=n,\n",
    "                              replica_scale=1,\n",
    "                              data_replica_size=1024, \n",
    "                              corruption_rate=0.1)\n",
    "        metrics = simulator.run()\n",
    "        l_times[n].append(metrics['duration']['local'])\n",
    "        g_times[n].append(metrics['duration']['global'])\n",
    "\n",
    "with open('sampling_scale_vs_time.json', 'w') as f:\n",
    "    json.dump({'local': l_times, 'global': g_times}, f)\n",
    "\n",
    "# f.savefig(\"foo.pdf\", bbox_inches='tight')"
   ]
  },
  {
   "cell_type": "code",
   "execution_count": null,
   "metadata": {},
   "outputs": [],
   "source": [
    "# Replica Scale vs Time (sum over each replica scale)\n",
    "rss = [10, 20, 30, 40, 50]\n",
    "l_times = {}\n",
    "g_times = {}\n",
    "\n",
    "for rs in rss:\n",
    "    l_times[rs] = []\n",
    "    g_times[rs] = []\n",
    "    for i in range(rs):\n",
    "        simulator = Simulator(n=10, \n",
    "                              data_replica_size=1024, \n",
    "                              corruption_rate=0.1)\n",
    "        metrics = simulator.run()\n",
    "        l_times[rs].append(metrics['l_time'])\n",
    "        g_times[rs].append(metrics['g_time'])\n",
    "\n",
    "with open('replica_scale_vs_time.json', 'w') as f:\n",
    "    json.dump({'local': l_times, 'global': g_times}, f)"
   ]
  },
  {
   "cell_type": "code",
   "execution_count": null,
   "metadata": {},
   "outputs": [],
   "source": [
    "# Replica Size vs Time (average over 10 rounds for each replica size)\n",
    "n_rounds = 10\n",
    "rss = [10, 20, 30, 40, 50]\n",
    "l_times = {}\n",
    "g_times = {}\n",
    "\n",
    "for rs in rss:\n",
    "    l_times[rs] = []\n",
    "    g_times[rs] = []\n",
    "    for i in range(n_rounds):\n",
    "        simulator = Simulator(n=10, \n",
    "                              data_replica_size=rs, \n",
    "                              corruption_rate=0.1)\n",
    "        metrics = simulator.run()\n",
    "        l_times[rs].append(metrics['l_time'])\n",
    "        g_times[rs].append(metrics['g_time'])\n",
    "\n",
    "with open('replica_size_vs_time.json', 'w') as f:\n",
    "    json.dump({'local': l_times, 'global': g_times}, f)"
   ]
  },
  {
   "cell_type": "code",
   "execution_count": null,
   "metadata": {},
   "outputs": [],
   "source": [
    "# Corruption Rate vs Time (average over 10 rounds for each replica size)\n",
    "n_rounds = 10\n",
    "crs = [0, 0.05, 0.1, 0.2, 0.3]\n",
    "l_times = {}\n",
    "g_times = {}\n",
    "\n",
    "for cr in crs:\n",
    "    l_times[cr] = []\n",
    "    g_times[cr] = []\n",
    "    for i in range(n_rounds):\n",
    "        simulator = Simulator(n=10, \n",
    "                              data_replica_size=1024,\n",
    "                              corruption_rate=cr)\n",
    "        metrics = simulator.run()\n",
    "        l_times[cr].append(metrics['l_time'])\n",
    "        g_times[cr].append(metrics['g_time'])\n",
    "\n",
    "with open('corruption_rate_vs_time.json', 'w') as f:\n",
    "    json.dump({'local': l_times, 'global': g_times}, f)"
   ]
  },
  {
   "cell_type": "code",
   "execution_count": null,
   "metadata": {},
   "outputs": [],
   "source": [
    "# local/global time consumption pie chart\n",
    "# keep all parameters as fixed\n",
    "l_times = []\n",
    "g_times = []\n",
    "for i in range(10):\n",
    "    simulator = Simulator(n=10, \n",
    "                          data_replica_size=1024, \n",
    "                          corruption_rate=0.1)\n",
    "    metrics = simulator.run()\n",
    "    l_times.append(metrics['l_time'])\n",
    "    g_times.append(metrics['g_time'])\n",
    "\n",
    "with open('time_consumption.json', 'w') as f:\n",
    "    json.dump({'local': l_times, 'global': g_times}, f)\n"
   ]
  },
  {
   "cell_type": "code",
   "execution_count": null,
   "metadata": {},
   "outputs": [],
   "source": [
    "# corruption detection rate (we might not need this because our one can guarantee 100%)\n",
    "    # with direct interact with app vendor\n",
    "    # without clustering\n",
    "    # with random clustering\n",
    "    # with clustering\n",
    "    # with clustering several rounds with reputation\n",
    "\n",
    "# simulation vs real\n",
    "# clustering vs no clustering\n"
   ]
  },
  {
   "cell_type": "code",
   "execution_count": null,
   "metadata": {},
   "outputs": [],
   "source": [
    "# communication overhead by calculating data packet size manually\n"
   ]
  }
 ],
 "metadata": {
  "kernelspec": {
   "display_name": "Python 3",
   "language": "python",
   "name": "python3"
  },
  "language_info": {
   "codemirror_mode": {
    "name": "ipython",
    "version": 3
   },
   "file_extension": ".py",
   "mimetype": "text/x-python",
   "name": "python",
   "nbconvert_exporter": "python",
   "pygments_lexer": "ipython3",
   "version": "3.11.9"
  }
 },
 "nbformat": 4,
 "nbformat_minor": 2
}
